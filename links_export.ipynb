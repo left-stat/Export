{
 "cells": [
  {
   "cell_type": "markdown",
   "metadata": {},
   "source": [
    "## Экспорт и импорт в международной торговле"
   ]
  },
  {
   "cell_type": "markdown",
   "metadata": {},
   "source": [
    "В качестве источника данных принят сайт: https://atlas.media.mit.edu"
   ]
  },
  {
   "cell_type": "markdown",
   "metadata": {},
   "source": [
    "## Общая структура экспорта России в 1995-2016 годах\n",
    "<a href=\"https://atlas.media.mit.edu/ru/visualize/stacked/hs92/export/rus/all/show/1995.2016/\">Источник данных</a>\n",
    "<img src=\"https://raw.githubusercontent.com/left-stat/Export/master/export_russia.jpg\">\n",
    "<hr>"
   ]
  },
  {
   "cell_type": "markdown",
   "metadata": {},
   "source": [
    "## Структура экспорта в 2016 году\n",
    "<a href=\"https://atlas.media.mit.edu/ru/visualize/tree_map/hs92/export/rus/all/show/2016/\">Источник данных</a>\n",
    "<img src=\"https://raw.githubusercontent.com/left-stat/Export/master/russia_2016.jpg\">\n",
    "<hr>"
   ]
  },
  {
   "cell_type": "markdown",
   "metadata": {},
   "source": [
    "## Структура экспорта в 2015 году \n",
    "\n",
    "\n",
    "<a href=\"https://atlas.media.mit.edu/ru/visualize/tree_map/hs92/export/rus/all/show/2015/\">Источник данных</a>\n",
    "<img src=\"https://raw.githubusercontent.com/left-stat/Export/master/russia_2015.jpg\">\n",
    "<hr>"
   ]
  },
  {
   "cell_type": "markdown",
   "metadata": {},
   "source": [
    "## Структура экспорта в 2014 году \n",
    "\n",
    "\n",
    "<a href=\"https://atlas.media.mit.edu/ru/visualize/tree_map/hs92/export/rus/all/show/2014/\">Источник данных</a>\n",
    "<img src=\"https://raw.githubusercontent.com/left-stat/Export/master/russia_2014.jpg\">\n",
    "<hr>"
   ]
  },
  {
   "cell_type": "markdown",
   "metadata": {},
   "source": [
    "## Структура экспорта в 2013 году \n",
    "\n",
    "\n",
    "<a href=\"https://atlas.media.mit.edu/ru/visualize/tree_map/hs92/export/rus/all/show/2013/\">Источник данных</a>\n",
    "<img src=\"https://raw.githubusercontent.com/left-stat/Export/master/russia_2013.jpg\">"
   ]
  },
  {
   "cell_type": "markdown",
   "metadata": {},
   "source": [
    "# Экспортеры сырой нефти \n",
    "\n",
    "<a href=\"https://atlas.media.mit.edu/ru/visualize/tree_map/hs92/export/show/all/2709/2016/\">Источник данных</a>\n",
    "<img src=\"https://raw.githubusercontent.com/left-stat/Export/master/oil_2016.jpg\">"
   ]
  },
  {
   "cell_type": "markdown",
   "metadata": {},
   "source": [
    "# Экспорт сырой нефти Россией с 1995 по 2016 года\n",
    "\n",
    "<a href=\"https://atlas.media.mit.edu/ru/visualize/stacked/hs92/export/rus/all/show/1995.2016/\">Источник данных</a>\n",
    "<img src=\"https://raw.githubusercontent.com/left-stat/Export/master/oil_1995_2016.jpg\">"
   ]
  },
  {
   "cell_type": "markdown",
   "metadata": {},
   "source": [
    "## Страны-экспортеры сырой нефти 1995-2016\n",
    "\n",
    "<a href=\"https://atlas.media.mit.edu/ru/visualize/stacked/hs92/export/show/all/2709/1995.2016/\">Источник данных</a>\n",
    "<img src=\"https://raw.githubusercontent.com/left-stat/Export/master/oil_country.jpg\">"
   ]
  },
  {
   "cell_type": "code",
   "execution_count": null,
   "metadata": {},
   "outputs": [],
   "source": []
  },
  {
   "cell_type": "markdown",
   "metadata": {},
   "source": [
    "## Куда Россия экспортирует сырую нефть\n",
    "\n",
    "<a href=\"https://atlas.media.mit.edu/ru/visualize/tree_map/hs92/export/rus/show/2709/2016/\">Источник данных</a>\n",
    "<img src=\"https://raw.githubusercontent.com/left-stat/Export/master/oil_export_2016.jpg\">"
   ]
  }
 ],
 "metadata": {
  "kernelspec": {
   "display_name": "Python 3",
   "language": "python",
   "name": "python3"
  },
  "language_info": {
   "codemirror_mode": {
    "name": "ipython",
    "version": 3
   },
   "file_extension": ".py",
   "mimetype": "text/x-python",
   "name": "python",
   "nbconvert_exporter": "python",
   "pygments_lexer": "ipython3",
   "version": "3.5.6"
  }
 },
 "nbformat": 4,
 "nbformat_minor": 2
}
